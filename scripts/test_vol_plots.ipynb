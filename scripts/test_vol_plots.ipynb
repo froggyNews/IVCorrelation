{
  "cells": [
    {
      "cell_type": "markdown",
      "metadata": {},
      "source": [
        "# Volatility Structure Plotting Tests\n",
        "\n",
        "Test the new plotting functions for:\n",
        "1. **3D Vol Surface** - Complete surface visualization\n",
        "2. **ATM Term Structure** - IV vs Time to Expiry at ATM\n",
        "3. **Term Smile** - IV vs Strike for fixed maturity\n",
        "4. **Vol Dashboard** - Comprehensive view with all plots\n"
      ]
    },
    {
      "cell_type": "code",
      "execution_count": 2,
      "metadata": {},
      "outputs": [],
      "source": [
        "import sys\n",
        "from pathlib import Path\n",
        "import matplotlib.pyplot as plt\n",
        "import pandas as pd\n",
        "import numpy as np\n",
        "\n",
        "# Add project root to path\n",
        "ROOT = Path.cwd().parent\n",
        "if str(ROOT) not in sys.path:\n",
        "    sys.path.insert(0, str(ROOT))\n",
        "\n",
        "# Import our new plotting functions\n",
        "from display.plotting.vol_structure_plots import (\n",
        "    plot_atm_term_structure,\n",
        "    plot_term_smile,\n",
        "    plot_3d_vol_surface,\n",
        "    create_vol_dashboard,\n",
        "    extract_atm_term_structure,\n",
        "    extract_term_smile\n",
        ")\n",
        "\n",
        "# Set matplotlib backend for interactive plots\n"
      ]
    },
    {
      "cell_type": "code",
      "execution_count": 3,
      "metadata": {},
      "outputs": [
        {
          "name": "stdout",
          "output_type": "stream",
          "text": [
            "Testing plots for IONQ on 2024-08-08\n"
          ]
        }
      ],
      "source": [
        "# Test configuration\n",
        "TICKER = \"IONQ\"  # Example ticker from notebook\n",
        "ASOF = \"2024-08-08\"  # Example date\n",
        "TARGET_DAYS = 30  # For term smile\n",
        "\n",
        "print(f\"Testing plots for {TICKER} on {ASOF}\")\n"
      ]
    }
  ],
  "metadata": {
    "kernelspec": {
      "display_name": ".venv",
      "language": "python",
      "name": "python3"
    },
    "language_info": {
      "codemirror_mode": {
        "name": "ipython",
        "version": 3
      },
      "file_extension": ".py",
      "mimetype": "text/x-python",
      "name": "python",
      "nbconvert_exporter": "python",
      "pygments_lexer": "ipython3",
      "version": "3.13.5"
    }
  },
  "nbformat": 4,
  "nbformat_minor": 2
}
